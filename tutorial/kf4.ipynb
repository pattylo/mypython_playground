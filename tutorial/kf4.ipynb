{
 "cells": [
  {
   "cell_type": "code",
   "execution_count": 1,
   "metadata": {},
   "outputs": [
    {
     "name": "stdout",
     "output_type": "stream",
     "text": [
      "what\n"
     ]
    }
   ],
   "source": [
    "print('what')"
   ]
  },
  {
   "cell_type": "code",
   "execution_count": 2,
   "metadata": {},
   "outputs": [
    {
     "data": {
      "text/plain": [
       "𝒩(μ=10.800, 𝜎²=0.008)"
      ]
     },
     "execution_count": 2,
     "metadata": {},
     "output_type": "execute_result"
    }
   ],
   "source": [
    "from collections import namedtuple\n",
    "%matplotlib inline\n",
    "import matplotlib.pyplot as plt\n",
    "\n",
    "gaussian = namedtuple('Gaussian', ['mean', 'var'])\n",
    "gaussian.__repr__ = lambda s: f'𝒩(μ={s[0]:.3f}, 𝜎²={s[1]:.3f})'\n",
    "def gaussian_multiply(g1, g2):\n",
    "    mean = (g1.var * g2.mean + g2.var * g1.mean) / (g1.var + g2.var)\n",
    "    variance = (g1.var * g2.var) / (g1.var + g2.var)\n",
    "    return gaussian(mean, variance)\n",
    "\n",
    "def update(prior, likelihood):\n",
    "    posterior = gaussian_multiply(likelihood, prior)\n",
    "    return posterior\n",
    "\n",
    "# test the update function\n",
    "predicted_pos = gaussian(10., .2**2)\n",
    "measured_pos = gaussian(11., .1**2)\n",
    "estimated_pos = update(predicted_pos, measured_pos)\n",
    "estimated_pos"
   ]
  },
  {
   "cell_type": "code",
   "execution_count": 3,
   "metadata": {},
   "outputs": [
    {
     "ename": "ModuleNotFoundError",
     "evalue": "No module named 'filterpy'",
     "output_type": "error",
     "traceback": [
      "\u001b[0;31m---------------------------------------------------------------------------\u001b[0m",
      "\u001b[0;31mModuleNotFoundError\u001b[0m                       Traceback (most recent call last)",
      "\u001b[0;32m/var/folders/40/w6l8c1fd18q5162bgks26d780000gn/T/ipykernel_29389/4137258972.py\u001b[0m in \u001b[0;36m<module>\u001b[0;34m\u001b[0m\n\u001b[0;32m----> 1\u001b[0;31m \u001b[0;32mimport\u001b[0m \u001b[0mfilterpy\u001b[0m\u001b[0;34m.\u001b[0m\u001b[0mstats\u001b[0m \u001b[0;32mas\u001b[0m \u001b[0mstats\u001b[0m\u001b[0;34m\u001b[0m\u001b[0;34m\u001b[0m\u001b[0m\n\u001b[0m\u001b[1;32m      2\u001b[0m \u001b[0;32mimport\u001b[0m \u001b[0mnumpy\u001b[0m \u001b[0;32mas\u001b[0m \u001b[0mnp\u001b[0m\u001b[0;34m\u001b[0m\u001b[0;34m\u001b[0m\u001b[0m\n\u001b[1;32m      3\u001b[0m \u001b[0mz\u001b[0m \u001b[0;34m=\u001b[0m \u001b[0mgaussian\u001b[0m\u001b[0;34m(\u001b[0m\u001b[0;36m10.\u001b[0m\u001b[0;34m,\u001b[0m \u001b[0;36m1.\u001b[0m\u001b[0;34m)\u001b[0m  \u001b[0;31m# Gaussian N(10, 1)\u001b[0m\u001b[0;34m\u001b[0m\u001b[0;34m\u001b[0m\u001b[0m\n\u001b[1;32m      4\u001b[0m \u001b[0;34m\u001b[0m\u001b[0m\n\u001b[1;32m      5\u001b[0m \u001b[0mproduct\u001b[0m \u001b[0;34m=\u001b[0m \u001b[0mgaussian_multiply\u001b[0m\u001b[0;34m(\u001b[0m\u001b[0mz\u001b[0m\u001b[0;34m,\u001b[0m \u001b[0mz\u001b[0m\u001b[0;34m)\u001b[0m\u001b[0;34m\u001b[0m\u001b[0;34m\u001b[0m\u001b[0m\n",
      "\u001b[0;31mModuleNotFoundError\u001b[0m: No module named 'filterpy'"
     ]
    }
   ],
   "source": [
    "import filterpy.stats as stats\n",
    "import numpy as np\n",
    "z = gaussian(10., 1.)  # Gaussian N(10, 1)\n",
    "\n",
    "product = gaussian_multiply(z, z)\n",
    "\n",
    "xs = np.arange(5, 15, 0.1)\n",
    "ys = [stats.gaussian(x, z.mean, z.var) for x in xs]\n",
    "plt.plot(xs, ys, label='$\\mathcal{N}(10,1)$')\n",
    "\n",
    "ys = [stats.gaussian(x, product.mean, product.var) for x in xs]\n",
    "plt.plot(xs, ys, label='$\\mathcal{N}(10,1) \\\\times \\mathcal{N}(10,1)$', ls='--')\n",
    "plt.legend()\n",
    "print(product)"
   ]
  },
  {
   "cell_type": "markdown",
   "metadata": {},
   "source": []
  },
  {
   "cell_type": "code",
   "execution_count": null,
   "metadata": {},
   "outputs": [],
   "source": []
  },
  {
   "cell_type": "markdown",
   "metadata": {},
   "source": [
    "[1.3535959735108178, 1.8820653967131618, 4.341047429453569, 7.156332673205118, 6.938695089418526, 6.843912342028484, 9.846824080052299, 12.553482049375292, 16.2730841073834, 14.800411177015299]"
   ]
  },
  {
   "cell_type": "markdown",
   "metadata": {},
   "source": []
  },
  {
   "cell_type": "code",
   "execution_count": null,
   "metadata": {},
   "outputs": [],
   "source": [
    "def predict(pos, movement):\n",
    "    return gaussian(pos.mean + movement.mean, pos.var + movement.var)"
   ]
  },
  {
   "cell_type": "code",
   "execution_count": null,
   "metadata": {},
   "outputs": [],
   "source": [
    "import kf_book.kf_internal as kf_internal\n",
    "from kf_book.kf_internal import DogSimulation\n",
    "\n",
    "np.random.seed(13)\n",
    "\n",
    "process_var = 1. # variance in the dog's movement\n",
    "sensor_var = 2. # variance in the sensor\n",
    "\n",
    "x = gaussian(0., 20.**2)  # dog's position, N(0, 20**2)\n",
    "velocity = 1\n",
    "dt = 1. # time step in seconds\n",
    "process_model = gaussian(velocity*dt, process_var) # displacement to add to x\n",
    "  \n",
    "# simulate dog and get measurements\n",
    "dog = DogSimulation(\n",
    "    x0=x.mean, \n",
    "    velocity=process_model.mean, \n",
    "    measurement_var=sensor_var, \n",
    "    process_var=process_model.var)\n",
    "\n",
    "# create list of measurements\n",
    "zs = [dog.move_and_sense() for _ in range(10)]\n",
    "\n"
   ]
  },
  {
   "cell_type": "code",
   "execution_count": null,
   "metadata": {},
   "outputs": [
    {
     "name": "stdout",
     "output_type": "stream",
     "text": [
      "PREDICT\t\t\tUPDATE\n",
      "     x      var\t\t  z\t    x      var\n",
      "  1.000  401.000\t1.354\t  1.352   1.990\n",
      "  2.352    2.990\t1.882\t  2.070   1.198\n",
      "  3.070    2.198\t4.341\t  3.736   1.047\n",
      "  4.736    2.047\t7.156\t  5.960   1.012\n",
      "  6.960    2.012\t6.939\t  6.949   1.003\n",
      "  7.949    2.003\t6.844\t  7.396   1.001\n",
      "  8.396    2.001\t9.847\t  9.122   1.000\n",
      " 10.122    2.000\t12.553\t 11.338   1.000\n",
      " 12.338    2.000\t16.273\t 14.305   1.000\n",
      " 15.305    2.000\t14.800\t 15.053   1.000\n",
      "\n",
      "final estimate:            15.053\n",
      "actual final position:     14.838\n"
     ]
    }
   ],
   "source": [
    "print('PREDICT\\t\\t\\tUPDATE')\n",
    "print('     x      var\\t\\t  z\\t    x      var')\n",
    "\n",
    "# perform Kalman filter on measurement z\n",
    "for z in zs:    \n",
    "    prior = predict(x, process_model)\n",
    "    likelihood = gaussian(z, sensor_var)\n",
    "    x = update(prior, likelihood)\n",
    "\n",
    "    kf_internal.print_gh(prior, x, z)\n",
    "\n",
    "print()\n",
    "print(f'final estimate:        {x.mean:10.3f}')\n",
    "print(f'actual final position: {dog.x:10.3f}')"
   ]
  },
  {
   "cell_type": "markdown",
   "metadata": {},
   "source": [
    "## different variance\n"
   ]
  },
  {
   "cell_type": "code",
   "execution_count": null,
   "metadata": {},
   "outputs": [
    {
     "name": "stdout",
     "output_type": "stream",
     "text": [
      "PREDICT\t\t\tUPDATE\n",
      "     x      var\t\t  z\t    x      var\n",
      "  1.000  440.000\t-2.440\t -2.424   1.991\n",
      " -1.424   41.991\t-2.148\t -2.115   1.909\n",
      " -1.115   41.909\t7.473\t  7.082   1.909\n",
      "  8.082   41.909\t17.477\t 17.049   1.909\n",
      " 18.049   41.909\t25.133\t 24.810   1.909\n",
      " 25.810   41.909\t20.837\t 21.064   1.909\n",
      " 22.064   41.909\t26.837\t 26.620   1.909\n",
      " 27.620   41.909\t34.409\t 34.100   1.909\n",
      " 35.100   41.909\t38.807\t 38.638   1.909\n",
      " 39.638   41.909\t40.562\t 40.520   1.909\n",
      "\n",
      "final estimate:            40.520\n",
      "actual final position:     40.600\n"
     ]
    }
   ],
   "source": [
    "import kf_book.kf_internal as kf_internal\n",
    "from kf_book.kf_internal import DogSimulation\n",
    "\n",
    "np.random.seed(13)\n",
    "\n",
    "process_var = 40. # variance in the dog's movement\n",
    "sensor_var = 2. # variance in the sensor\n",
    "\n",
    "x = gaussian(0., 20.**2)  # dog's position, N(0, 20**2)\n",
    "velocity = 1\n",
    "dt = 1. # time step in seconds\n",
    "process_model = gaussian(velocity*dt, process_var) # displacement to add to x\n",
    "  \n",
    "# simulate dog and get measurements\n",
    "dog = DogSimulation(\n",
    "    x0=x.mean, \n",
    "    velocity=process_model.mean, \n",
    "    measurement_var=sensor_var, \n",
    "    process_var=process_model.var)\n",
    "\n",
    "# create list of measurements\n",
    "zs = [dog.move_and_sense() for _ in range(10)]\n",
    "\n",
    "print('PREDICT\\t\\t\\tUPDATE')\n",
    "print('     x      var\\t\\t  z\\t    x      var')\n",
    "\n",
    "# perform Kalman filter on measurement z\n",
    "for z in zs:    \n",
    "    prior = predict(x, process_model)\n",
    "    likelihood = gaussian(z, sensor_var)\n",
    "    x = update(prior, likelihood)\n",
    "\n",
    "    kf_internal.print_gh(prior, x, z)\n",
    "\n",
    "print()\n",
    "print(f'final estimate:        {x.mean:10.3f}')\n",
    "print(f'actual final position: {dog.x:10.3f}')"
   ]
  },
  {
   "cell_type": "code",
   "execution_count": null,
   "metadata": {},
   "outputs": [
    {
     "data": {
      "application/vnd.jupyter.widget-view+json": {
       "model_id": "07f6aae277a84764b18efa5b17e9ed79",
       "version_major": 2,
       "version_minor": 0
      },
      "text/plain": [
       "interactive(children=(IntSlider(value=1, description='step', max=30, min=1), Output()), _dom_classes=('widget-…"
      ]
     },
     "metadata": {},
     "output_type": "display_data"
    }
   ],
   "source": [
    "from kf_book import book_plots as book_plots\n",
    "from ipywidgets.widgets import IntSlider\n",
    "from ipywidgets import interact\n",
    "\n",
    "# save output in these lists for plotting\n",
    "xs, predictions = [], []\n",
    "\n",
    "process_model = gaussian(velocity, process_var) \n",
    "\n",
    "# perform Kalman filter\n",
    "x = gaussian(0., 20.**2)\n",
    "for z in zs:    \n",
    "    prior = predict(x, process_model)\n",
    "    likelihood = gaussian(z, sensor_var)\n",
    "    x = update(prior, likelihood)\n",
    "\n",
    "    # save results\n",
    "    predictions.append(prior.mean)\n",
    "    xs.append(x.mean)\n",
    "\n",
    "def plot_filter(step):\n",
    "    plt.cla()\n",
    "    step -= 1\n",
    "    i = step // 3 + 1\n",
    " \n",
    "    book_plots.plot_predictions(predictions[:i])    \n",
    "    if step % 3 == 0:\n",
    "        book_plots.plot_measurements(zs[:i-1])\n",
    "        book_plots.plot_filter(xs[:i-1])\n",
    "    elif step % 3 == 1:\n",
    "        book_plots.plot_measurements(zs[:i])\n",
    "        book_plots.plot_filter(xs[:i-1])\n",
    "    else:\n",
    "        book_plots.plot_measurements(zs[:i])\n",
    "        book_plots.plot_filter(xs[:i])\n",
    "    \n",
    "    plt.xlim(-1, 10)\n",
    "    plt.ylim(-50, 50)\n",
    "    plt.legend(loc=2);\n",
    "    plt.show()\n",
    "    \n",
    "interact(plot_filter, step=IntSlider(value=1, min=1, max=len(predictions)*3));"
   ]
  },
  {
   "cell_type": "code",
   "execution_count": null,
   "metadata": {},
   "outputs": [
    {
     "name": "stdout",
     "output_type": "stream",
     "text": [
      "PREDICT\t\t\tUPDATE\n",
      "     x      var\t\t  z\t    x      var\n",
      "  1.000  402.000\t4.760\t  4.420  36.380\n",
      "  5.420   38.380\t3.787\t  4.620  19.587\n",
      "  5.620   21.587\t7.199\t  6.173  14.020\n",
      "  7.173   16.020\t12.188\t  8.608  11.439\n",
      "  9.608   13.439\t3.221\t  8.001  10.059\n",
      "  9.001   12.059\t1.738\t  7.319   9.266\n",
      "  8.319   11.266\t9.974\t  8.682   8.790\n",
      "  9.682   10.790\t15.812\t 10.985   8.498\n",
      " 11.985   10.498\t28.585\t 15.436   8.315\n",
      " 16.436   10.315\t16.673\t 16.484   8.201\n",
      "\n",
      "final estimate:            16.484\n",
      "actual final position:     16.842\n"
     ]
    }
   ],
   "source": [
    "import kf_book.kf_internal as kf_internal\n",
    "from kf_book.kf_internal import DogSimulation\n",
    "\n",
    "np.random.seed(13)\n",
    "\n",
    "process_var = 2. # variance in the dog's movement\n",
    "sensor_var = 40. # variance in the sensor\n",
    "\n",
    "x = gaussian(0., 20.**2)  # dog's position, N(0, 20**2)\n",
    "velocity = 1\n",
    "dt = 1. # time step in seconds\n",
    "process_model = gaussian(velocity*dt, process_var) # displacement to add to x\n",
    "  \n",
    "# simulate dog and get measurements\n",
    "dog = DogSimulation(\n",
    "    x0=x.mean, \n",
    "    velocity=process_model.mean, \n",
    "    measurement_var=sensor_var, \n",
    "    process_var=process_model.var)\n",
    "\n",
    "# create list of measurements\n",
    "zs = [dog.move_and_sense() for _ in range(10)]\n",
    "\n",
    "print('PREDICT\\t\\t\\tUPDATE')\n",
    "print('     x      var\\t\\t  z\\t    x      var')\n",
    "\n",
    "# perform Kalman filter on measurement z\n",
    "for z in zs:    \n",
    "    prior = predict(x, process_model)\n",
    "    likelihood = gaussian(z, sensor_var)\n",
    "    x = update(prior, likelihood)\n",
    "\n",
    "    kf_internal.print_gh(prior, x, z)\n",
    "\n",
    "print()\n",
    "print(f'final estimate:        {x.mean:10.3f}')\n",
    "print(f'actual final position: {dog.x:10.3f}')"
   ]
  },
  {
   "cell_type": "code",
   "execution_count": null,
   "metadata": {},
   "outputs": [
    {
     "data": {
      "application/vnd.jupyter.widget-view+json": {
       "model_id": "a0230bbd9826499aa013dbd40ed54f38",
       "version_major": 2,
       "version_minor": 0
      },
      "text/plain": [
       "interactive(children=(IntSlider(value=1, description='step', max=30, min=1), Output()), _dom_classes=('widget-…"
      ]
     },
     "metadata": {},
     "output_type": "display_data"
    }
   ],
   "source": [
    "from kf_book import book_plots as book_plots\n",
    "from ipywidgets.widgets import IntSlider\n",
    "from ipywidgets import interact\n",
    "\n",
    "# save output in these lists for plotting\n",
    "xs, predictions = [], []\n",
    "\n",
    "process_model = gaussian(velocity, process_var) \n",
    "\n",
    "# perform Kalman filter\n",
    "x = gaussian(0., 20.**2)\n",
    "for z in zs:    \n",
    "    prior = predict(x, process_model)\n",
    "    likelihood = gaussian(z, sensor_var)\n",
    "    x = update(prior, likelihood)\n",
    "\n",
    "    # save results\n",
    "    predictions.append(prior.mean)\n",
    "    xs.append(x.mean)\n",
    "\n",
    "def plot_filter(step):\n",
    "    plt.cla()\n",
    "    step -= 1\n",
    "    i = step // 3 + 1\n",
    " \n",
    "    book_plots.plot_predictions(predictions[:i])    \n",
    "    if step % 3 == 0:\n",
    "        book_plots.plot_measurements(zs[:i-1])\n",
    "        book_plots.plot_filter(xs[:i-1])\n",
    "    elif step % 3 == 1:\n",
    "        book_plots.plot_measurements(zs[:i])\n",
    "        book_plots.plot_filter(xs[:i-1])\n",
    "    else:\n",
    "        book_plots.plot_measurements(zs[:i])\n",
    "        book_plots.plot_filter(xs[:i])\n",
    "    \n",
    "    plt.xlim(-1, 10)\n",
    "    plt.ylim(-50, 50)\n",
    "    plt.legend(loc=2);\n",
    "    plt.show()\n",
    "    \n",
    "interact(plot_filter, step=IntSlider(value=1, min=1, max=len(predictions)*3));"
   ]
  },
  {
   "cell_type": "markdown",
   "metadata": {},
   "source": [
    "# Kalman Filter"
   ]
  },
  {
   "cell_type": "markdown",
   "metadata": {},
   "source": [
    "## frequent seen variable names\n",
    "Variance:\n",
    "* P -> Prior\n",
    "* Q -> Increment \n",
    "* R -> Measurement\n",
    "\n",
    "x = x + P / (P + R) * (z - x)\n",
    "\n",
    "$$\\begin{aligned}\n",
    "x = x +\\frac P {P+R} * (z-x)\n",
    "\\end{aligned}\n",
    "\n",
    "  \n"
   ]
  },
  {
   "cell_type": "code",
   "execution_count": null,
   "metadata": {},
   "outputs": [],
   "source": [
    "\n",
    "# posterior = gaussian(post_mean, post_var)\n",
    "# prior     = gaussian(prio_mean, prio_var)\n",
    "\n",
    "def kf_predict(posterior, movement):\n",
    "    x,  P = posterior\n",
    "    dx, Q = movement\n",
    "    x = x + dx\n",
    "    P = P + Q\n",
    "    return gaussian(x, dx)\n",
    "\n",
    "def kf_update(prior, measurement):\n",
    "    x, P = prior\n",
    "    z, R = measurement\n",
    "    \n",
    "    #residual\n",
    "    y = z - x\n",
    "    \n",
    "    K = P / (P + R)\n",
    "    \n",
    "    x = x + K * y\n",
    "    P = (1 - K) * P\n",
    "    return gaussian(x, P)\n",
    "    \n",
    "\n",
    "    "
   ]
  },
  {
   "cell_type": "code",
   "execution_count": null,
   "metadata": {},
   "outputs": [],
   "source": []
  }
 ],
 "metadata": {
  "interpreter": {
   "hash": "aee8b7b246df8f9039afb4144a1f6fd8d2ca17a180786b69acc140d282b71a49"
  },
  "kernelspec": {
   "display_name": "Python 3.8.6 64-bit",
   "language": "python",
   "name": "python3"
  },
  "language_info": {
   "codemirror_mode": {
    "name": "ipython",
    "version": 3
   },
   "file_extension": ".py",
   "mimetype": "text/x-python",
   "name": "python",
   "nbconvert_exporter": "python",
   "pygments_lexer": "ipython3",
   "version": "3.7.9"
  },
  "orig_nbformat": 4
 },
 "nbformat": 4,
 "nbformat_minor": 2
}
